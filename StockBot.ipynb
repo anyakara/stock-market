{
  "cells": [
    {
      "cell_type": "markdown",
      "source": [
        "StockBot Prediction Algorithm (RNN-LSTM)"
      ],
      "metadata": {
        "id": "fXTKH59ml9A0"
      }
    },
    {
      "cell_type": "code",
      "source": [
        "import os\n",
        "\n",
        "#plotting + constructing dataframes imports\n",
        "import numpy as np\n",
        "import pandas as pd\n",
        "import matplotlib.pyplot as plt\n",
        "\n",
        "#model architecture imports\n",
        "from sklearn.preprocessing import MinMaxScaler \n",
        "from keras.models import Sequential, load_model\n",
        "from keras.layers import LSTM, Dense, Dropout\n",
        "\n",
        "#whyyyyyyyy - minmaxscaler technically wouldn't work bc vals that shouldn't be normalized are being normalized\n",
        "#-> not reflective of the << potential >> price the stock could reach.\n",
        "#also, lol code needs major refactoring -> more abstractions for RNN and window construction\n",
        "#question, using the same tools, other than changing the LSTM/Dense/Dropout funcs, how can we write this\n",
        "#differently?\n",
        "\n",
        "#retrain it with 'aaww.us.txt' bc it's better?"
      ],
      "metadata": {
        "id": "R1ReY21X_iQ5"
      },
      "execution_count": 1,
      "outputs": []
    },
    {
      "cell_type": "code",
      "source": [
        "df = pd.read_csv('aaww.us.txt')\n",
        "print(df)"
      ],
      "metadata": {
        "colab": {
          "base_uri": "https://localhost:8080/"
        },
        "id": "Eu0XwJLyB66V",
        "outputId": "fc67daf9-3342-4187-a4a4-24bdff792966"
      },
      "execution_count": 2,
      "outputs": [
        {
          "output_type": "stream",
          "name": "stdout",
          "text": [
            "            Date   Open    High      Low  Close  Volume  OpenInt\n",
            "0     2005-02-25  29.50  29.500  29.5000  29.50   12600        0\n",
            "1     2005-02-28  30.00  30.000  29.2500  29.53  400200        0\n",
            "2     2005-03-01  29.25  29.250  28.7500  29.00  371661        0\n",
            "3     2005-03-02  29.00  29.250  29.0000  29.25   38600        0\n",
            "4     2005-03-04  29.25  29.250  29.2500  29.25     200        0\n",
            "...          ...    ...     ...      ...    ...     ...      ...\n",
            "3157  2017-11-06  60.50  61.250  58.9505  60.85  297111        0\n",
            "3158  2017-11-07  56.05  57.850  55.6500  56.05  984360        0\n",
            "3159  2017-11-08  58.50  59.650  57.1000  57.25  416385        0\n",
            "3160  2017-11-09  56.60  56.850  54.6000  54.75  465227        0\n",
            "3161  2017-11-10  54.55  54.625  52.6000  53.85  561466        0\n",
            "\n",
            "[3162 rows x 7 columns]\n"
          ]
        }
      ]
    },
    {
      "cell_type": "code",
      "source": [
        "#focus on forecasting the first column - 'Open'\n",
        "df = df['Open'].values\n",
        "print(df.shape)"
      ],
      "metadata": {
        "colab": {
          "base_uri": "https://localhost:8080/"
        },
        "id": "IMT-g4KFCNMn",
        "outputId": "7f431b86-6ce1-4ed8-884f-36220ae94715"
      },
      "execution_count": 3,
      "outputs": [
        {
          "output_type": "stream",
          "name": "stdout",
          "text": [
            "(3162,)\n"
          ]
        }
      ]
    },
    {
      "cell_type": "code",
      "source": [
        "df = df.reshape(-1,1) #vector transformation to obtain a two dimensional array -> fit for further analysis\n",
        "print(df.shape)\n",
        "print(df)"
      ],
      "metadata": {
        "colab": {
          "base_uri": "https://localhost:8080/"
        },
        "id": "UwMwISfmIwrL",
        "outputId": "8ff3e710-173d-4c21-e8e6-7d542b7a95e5"
      },
      "execution_count": 4,
      "outputs": [
        {
          "output_type": "stream",
          "name": "stdout",
          "text": [
            "(3162, 1)\n",
            "[[29.5 ]\n",
            " [30.  ]\n",
            " [29.25]\n",
            " ...\n",
            " [58.5 ]\n",
            " [56.6 ]\n",
            " [54.55]]\n"
          ]
        }
      ]
    },
    {
      "cell_type": "code",
      "source": [
        "train_set = np.array(df[:int(df.shape[0]*0.8)])\n",
        "test_set = np.array(df[int(df.shape[0]*0.8)-50:])\n",
        "print(train_set.shape)\n",
        "print(test_set.shape)"
      ],
      "metadata": {
        "colab": {
          "base_uri": "https://localhost:8080/"
        },
        "id": "oiQLOyFJCj4F",
        "outputId": "bc15039f-336a-4952-aa48-6922bf360855"
      },
      "execution_count": 5,
      "outputs": [
        {
          "output_type": "stream",
          "name": "stdout",
          "text": [
            "(2529, 1)\n",
            "(683, 1)\n"
          ]
        }
      ]
    },
    {
      "cell_type": "code",
      "source": [
        "scaler = MinMaxScaler(feature_range=(0,1))\n",
        "train_set = scaler.fit_transform(train_set)\n",
        "train_set[:5]"
      ],
      "metadata": {
        "colab": {
          "base_uri": "https://localhost:8080/"
        },
        "id": "gaF8XO_PDteg",
        "outputId": "fa130403-7604-4c4c-a4da-4db233c00a81"
      },
      "execution_count": 6,
      "outputs": [
        {
          "output_type": "execute_result",
          "data": {
            "text/plain": [
              "array([[0.32634296],\n",
              "       [0.33440878],\n",
              "       [0.32231005],\n",
              "       [0.31827714],\n",
              "       [0.32231005]])"
            ]
          },
          "metadata": {},
          "execution_count": 6
        }
      ]
    },
    {
      "cell_type": "code",
      "source": [
        "#scaler = MinMaxScaler(feature_range=(0,1))\n",
        "test_set = scaler.transform(test_set)\n",
        "test_set[:5]"
      ],
      "metadata": {
        "colab": {
          "base_uri": "https://localhost:8080/"
        },
        "id": "vVQ3h7R9EBol",
        "outputId": "ccd8d178-572a-4210-8164-c67260567276"
      },
      "execution_count": 7,
      "outputs": [
        {
          "output_type": "execute_result",
          "data": {
            "text/plain": [
              "array([[0.57896435],\n",
              "       [0.57718987],\n",
              "       [0.60880787],\n",
              "       [0.59703178],\n",
              "       [0.59477335]])"
            ]
          },
          "metadata": {},
          "execution_count": 7
        }
      ]
    },
    {
      "cell_type": "code",
      "source": [
        "df.shape[0]"
      ],
      "metadata": {
        "colab": {
          "base_uri": "https://localhost:8080/"
        },
        "id": "V1okC7MP1pfD",
        "outputId": "de98e64d-1de0-42d8-fc5f-8c8e5fbf0efc"
      },
      "execution_count": 8,
      "outputs": [
        {
          "output_type": "execute_result",
          "data": {
            "text/plain": [
              "3162"
            ]
          },
          "metadata": {},
          "execution_count": 8
        }
      ]
    },
    {
      "cell_type": "code",
      "source": [
        "# this function takes the dataframe parameter and ... whyyy 50?? - to build a buffer?? # the way the windows are being created is crazy good\n",
        "def create_dataset(df):\n",
        "  X = []\n",
        "  y = []\n",
        "  for i in range(50, df.shape[0]):\n",
        "    X.append(df[i-50:i,0])\n",
        "    y.append(df[i,0])\n",
        "  X = np.array(X)\n",
        "  y = np.array(y)\n",
        "  return X,y"
      ],
      "metadata": {
        "id": "s7agIhGqGaLO"
      },
      "execution_count": 9,
      "outputs": []
    },
    {
      "cell_type": "code",
      "source": [
        "x_train, y_train = create_dataset(train_set)\n",
        "x_train[:1]"
      ],
      "metadata": {
        "colab": {
          "base_uri": "https://localhost:8080/"
        },
        "id": "WRaFaIjZG8HL",
        "outputId": "bbc85375-3581-42e7-892c-7402d8709522"
      },
      "execution_count": 10,
      "outputs": [
        {
          "output_type": "execute_result",
          "data": {
            "text/plain": [
              "array([[0.32634296, 0.33440878, 0.32231005, 0.31827714, 0.32231005,\n",
              "        0.32634296, 0.32150347, 0.31424423, 0.31424423, 0.31827714,\n",
              "        0.31424423, 0.31827714, 0.31440555, 0.30053234, 0.29730602,\n",
              "        0.2981126 , 0.29004678, 0.28601387, 0.28198096, 0.28601387,\n",
              "        0.29004678, 0.28198096, 0.27794806, 0.26181642, 0.24568479,\n",
              "        0.23600581, 0.23761897, 0.24165188, 0.26100984, 0.23761897,\n",
              "        0.2537506 , 0.26181642, 0.27794806, 0.28601387, 0.29407969,\n",
              "        0.29891918, 0.31021132, 0.3158574 , 0.30214551, 0.33440878,\n",
              "        0.33440878, 0.3465075 , 0.39893531, 0.38312631, 0.36667204,\n",
              "        0.37473786, 0.38280368, 0.3908695 , 0.38683659, 0.39893531]])"
            ]
          },
          "metadata": {},
          "execution_count": 10
        }
      ]
    },
    {
      "cell_type": "code",
      "source": [
        "x_test, y_test = create_dataset(test_set)\n",
        "x_test[:1]"
      ],
      "metadata": {
        "colab": {
          "base_uri": "https://localhost:8080/"
        },
        "id": "iiMotPX5HEji",
        "outputId": "31cd466c-e5e4-4369-91b1-315be95d5653"
      },
      "execution_count": 11,
      "outputs": [
        {
          "output_type": "execute_result",
          "data": {
            "text/plain": [
              "array([[0.57896435, 0.57718987, 0.60880787, 0.59703178, 0.59477335,\n",
              "        0.59283755, 0.59445072, 0.57638329, 0.58331989, 0.59751573,\n",
              "        0.60751734, 0.59880626, 0.59574125, 0.60864656, 0.61090498,\n",
              "        0.61284078, 0.60929182, 0.61171157, 0.59799968, 0.57283433,\n",
              "        0.57089853, 0.56622036, 0.53992579, 0.5518632 , 0.54137764,\n",
              "        0.53879658, 0.53266656, 0.54524923, 0.54718503, 0.5547669 ,\n",
              "        0.57331828, 0.57267301, 0.5686401 , 0.56234877, 0.55396032,\n",
              "        0.56121955, 0.55686401, 0.54008711, 0.54702371, 0.54524923,\n",
              "        0.53315051, 0.54992741, 0.61784159, 0.63897403, 0.69382158,\n",
              "        0.72108405, 0.74657203, 0.75060494, 0.77641555, 0.76415551]])"
            ]
          },
          "metadata": {},
          "execution_count": 11
        }
      ]
    },
    {
      "cell_type": "code",
      "source": [
        "# Reshaping feature for LSTM Layer\n",
        "x_train = np.reshape(x_train, (x_train.shape[0], x_train.shape[1], 1))\n",
        "x_test = np.reshape(x_test, (x_test.shape[0], x_test.shape[1], 1))"
      ],
      "metadata": {
        "id": "lOPkGsfeHQQk"
      },
      "execution_count": 12,
      "outputs": []
    },
    {
      "cell_type": "markdown",
      "source": [
        "Model"
      ],
      "metadata": {
        "id": "D7YiKEObIXZn"
      }
    },
    {
      "cell_type": "code",
      "source": [
        "#initialize bot_regressor\n",
        "bot_regressor = Sequential() \n",
        "\n",
        "#input + hidden layers\n",
        "bot_regressor.add(LSTM(units=96, return_sequences=True, input_shape=(x_train.shape[1], 1)))\n",
        "bot_regressor.add(Dropout(0.2))\n",
        "\n",
        "bot_regressor.add(LSTM(units=96, return_sequences=True))\n",
        "bot_regressor.add(Dropout(0.2))\n",
        "\n",
        "bot_regressor.add(LSTM(units=96, return_sequences=True))\n",
        "bot_regressor.add(Dropout(0.2))\n",
        "\n",
        "bot_regressor.add(LSTM(units=96))\n",
        "bot_regressor.add(Dropout(0.2))\n",
        "\n",
        "#output layer\n",
        "bot_regressor.add(Dense(units=1))\n",
        "\n",
        "# tweak units (existing val = 96. change it to 50 for instance, and see what happens to loss and accuracy)\n",
        "# also change the number of LSTM layers and dropouts"
      ],
      "metadata": {
        "id": "6Bh94QhdIQ1q"
      },
      "execution_count": 13,
      "outputs": []
    },
    {
      "cell_type": "code",
      "source": [
        "# used root_mean_squared\n",
        "bot_regressor.compile(loss='mean_squared_error', optimizer='adam')"
      ],
      "metadata": {
        "id": "eOnrTisrJ-gT"
      },
      "execution_count": 14,
      "outputs": []
    },
    {
      "cell_type": "code",
      "source": [
        "if(not os.path.exists('forecast.h5')):\n",
        "    bot_regressor.fit(x_train, y_train, epochs=50, verbose=1, batch_size=32) # when we actually train this, we'll set epochs to 100, and verbose=1 was added to the args\n",
        "    bot_regressor.save('forecast.h5')\n",
        "\n",
        "# print accuracy and confusion matrix to validate the model...\n",
        "\n",
        "# take 2: 10 -> 30 epochs"
      ],
      "metadata": {
        "id": "m9YOKoeiLlay",
        "colab": {
          "base_uri": "https://localhost:8080/"
        },
        "outputId": "40527568-a619-4d27-8792-67328afc8027"
      },
      "execution_count": 15,
      "outputs": [
        {
          "output_type": "stream",
          "name": "stdout",
          "text": [
            "Epoch 1/50\n",
            "78/78 [==============================] - 17s 114ms/step - loss: 0.0194\n",
            "Epoch 2/50\n",
            "78/78 [==============================] - 9s 116ms/step - loss: 0.0056\n",
            "Epoch 3/50\n",
            "78/78 [==============================] - 9s 116ms/step - loss: 0.0060\n",
            "Epoch 4/50\n",
            "78/78 [==============================] - 9s 114ms/step - loss: 0.0051\n",
            "Epoch 5/50\n",
            "78/78 [==============================] - 9s 113ms/step - loss: 0.0041\n",
            "Epoch 6/50\n",
            "78/78 [==============================] - 9s 113ms/step - loss: 0.0035\n",
            "Epoch 7/50\n",
            "78/78 [==============================] - 9s 113ms/step - loss: 0.0037\n",
            "Epoch 8/50\n",
            "78/78 [==============================] - 9s 114ms/step - loss: 0.0034\n",
            "Epoch 9/50\n",
            "78/78 [==============================] - 9s 113ms/step - loss: 0.0033\n",
            "Epoch 10/50\n",
            "78/78 [==============================] - 9s 117ms/step - loss: 0.0032\n",
            "Epoch 11/50\n",
            "78/78 [==============================] - 10s 126ms/step - loss: 0.0031\n",
            "Epoch 12/50\n",
            "78/78 [==============================] - 9s 112ms/step - loss: 0.0027\n",
            "Epoch 13/50\n",
            "78/78 [==============================] - 9s 113ms/step - loss: 0.0026\n",
            "Epoch 14/50\n",
            "78/78 [==============================] - 9s 113ms/step - loss: 0.0025\n",
            "Epoch 15/50\n",
            "78/78 [==============================] - 9s 114ms/step - loss: 0.0025\n",
            "Epoch 16/50\n",
            "78/78 [==============================] - 9s 114ms/step - loss: 0.0026\n",
            "Epoch 17/50\n",
            "78/78 [==============================] - 9s 114ms/step - loss: 0.0020\n",
            "Epoch 18/50\n",
            "78/78 [==============================] - 9s 114ms/step - loss: 0.0023\n",
            "Epoch 19/50\n",
            "78/78 [==============================] - 9s 113ms/step - loss: 0.0020\n",
            "Epoch 20/50\n",
            "78/78 [==============================] - 9s 113ms/step - loss: 0.0021\n",
            "Epoch 21/50\n",
            "78/78 [==============================] - 9s 113ms/step - loss: 0.0020\n",
            "Epoch 22/50\n",
            "78/78 [==============================] - 9s 117ms/step - loss: 0.0019\n",
            "Epoch 23/50\n",
            "78/78 [==============================] - 9s 118ms/step - loss: 0.0018\n",
            "Epoch 24/50\n",
            "78/78 [==============================] - 9s 114ms/step - loss: 0.0017\n",
            "Epoch 25/50\n",
            "78/78 [==============================] - 9s 115ms/step - loss: 0.0018\n",
            "Epoch 26/50\n",
            "78/78 [==============================] - 9s 115ms/step - loss: 0.0015\n",
            "Epoch 27/50\n",
            "78/78 [==============================] - 9s 114ms/step - loss: 0.0016\n",
            "Epoch 28/50\n",
            "78/78 [==============================] - 9s 114ms/step - loss: 0.0016\n",
            "Epoch 29/50\n",
            "78/78 [==============================] - 9s 113ms/step - loss: 0.0015\n",
            "Epoch 30/50\n",
            "78/78 [==============================] - 9s 114ms/step - loss: 0.0014\n",
            "Epoch 31/50\n",
            "78/78 [==============================] - 9s 113ms/step - loss: 0.0015\n",
            "Epoch 32/50\n",
            "78/78 [==============================] - 9s 114ms/step - loss: 0.0015\n",
            "Epoch 33/50\n",
            "78/78 [==============================] - 9s 113ms/step - loss: 0.0014\n",
            "Epoch 34/50\n",
            "78/78 [==============================] - 9s 114ms/step - loss: 0.0013\n",
            "Epoch 35/50\n",
            "78/78 [==============================] - 9s 114ms/step - loss: 0.0014\n",
            "Epoch 36/50\n",
            "78/78 [==============================] - 9s 115ms/step - loss: 0.0014\n",
            "Epoch 37/50\n",
            "78/78 [==============================] - 9s 114ms/step - loss: 0.0013\n",
            "Epoch 38/50\n",
            "78/78 [==============================] - 9s 114ms/step - loss: 0.0012\n",
            "Epoch 39/50\n",
            "78/78 [==============================] - 9s 116ms/step - loss: 0.0012\n",
            "Epoch 40/50\n",
            "78/78 [==============================] - 9s 116ms/step - loss: 0.0012\n",
            "Epoch 41/50\n",
            "78/78 [==============================] - 9s 114ms/step - loss: 0.0013\n",
            "Epoch 42/50\n",
            "78/78 [==============================] - 9s 114ms/step - loss: 0.0011\n",
            "Epoch 43/50\n",
            "78/78 [==============================] - 9s 114ms/step - loss: 0.0012\n",
            "Epoch 44/50\n",
            "78/78 [==============================] - 9s 113ms/step - loss: 0.0012\n",
            "Epoch 45/50\n",
            "78/78 [==============================] - 9s 114ms/step - loss: 0.0011\n",
            "Epoch 46/50\n",
            "78/78 [==============================] - 9s 114ms/step - loss: 0.0011\n",
            "Epoch 47/50\n",
            "78/78 [==============================] - 9s 113ms/step - loss: 0.0011\n",
            "Epoch 48/50\n",
            "78/78 [==============================] - 9s 114ms/step - loss: 0.0011\n",
            "Epoch 49/50\n",
            "78/78 [==============================] - 9s 113ms/step - loss: 0.0011\n",
            "Epoch 50/50\n",
            "78/78 [==============================] - 9s 113ms/step - loss: 0.0011\n"
          ]
        }
      ]
    },
    {
      "cell_type": "code",
      "source": [
        "model = load_model('forecast.h5')"
      ],
      "metadata": {
        "id": "2uXmufrmLHWs"
      },
      "execution_count": 16,
      "outputs": []
    },
    {
      "cell_type": "markdown",
      "source": [
        "Visualizing Predictions"
      ],
      "metadata": {
        "id": "lwKXum1cSoqJ"
      }
    },
    {
      "cell_type": "code",
      "source": [
        "predictions = bot_regressor.predict(x_test)\n",
        "predictions = scaler.inverse_transform(predictions)\n",
        "\n",
        "# I know what to do to test this nowwwwww ---> fetch stock data for abco (window of 50)\n",
        "# process the data the way we did for training / testing sets\n",
        "# and use the create_dataset() function to feed that data into bot_regressor.predict()\n",
        "# store that in a new 'predictions' variable and plot the outcomes like we do for the test! -- and the important thing to note here\n",
        "# is that the way I pieced the two graphs together should be the most important change to the existing tutorial code\n",
        "# what I do below is what needs to be done to predict the 'Open' of abco for tomorrow:::\n",
        "\n",
        "#my code\n",
        "fig, ax = plt.subplots(figsize=(20,3))\n",
        "plt.plot(df[:len(y_train)+50], color='red',  label=\"True Price\") # modified to show model forecasting what's gonna happen.\n",
        "ax.plot(range(len(y_train)+50,len(y_train)+50+len(predictions)),predictions, color='blue', label='Predicted Testing Price')\n",
        "plt.legend()"
      ],
      "metadata": {
        "colab": {
          "base_uri": "https://localhost:8080/",
          "height": 229
        },
        "id": "dbge-uBT5ML9",
        "outputId": "1b387bc5-328f-4d98-c84e-55c1850ae100"
      },
      "execution_count": 17,
      "outputs": [
        {
          "output_type": "execute_result",
          "data": {
            "text/plain": [
              "<matplotlib.legend.Legend at 0x7f440d6346d0>"
            ]
          },
          "metadata": {},
          "execution_count": 17
        },
        {
          "output_type": "display_data",
          "data": {
            "text/plain": [
              "<Figure size 1440x216 with 1 Axes>"
            ],
            "image/png": "[encoded data removed]"
          },
          "metadata": {
            "needs_background": "light"
          }
        }
      ]
    },
    {
      "cell_type": "code",
      "source": [
        "print(len(x_test[0]))"
      ],
      "metadata": {
        "colab": {
          "base_uri": "https://localhost:8080/"
        },
        "id": "tKNv-oWcHT3U",
        "outputId": "ee79ed88-de5c-4e6d-936d-be4a03855948"
      },
      "execution_count": 18,
      "outputs": [
        {
          "output_type": "stream",
          "name": "stdout",
          "text": [
            "50\n"
          ]
        }
      ]
    },
    {
      "cell_type": "code",
      "source": [
        "predictions = bot_regressor.predict(x_test)\n",
        "predictions = scaler.inverse_transform(predictions)\n",
        "\n",
        "fig, ax = plt.subplots(figsize=(20,3))\n",
        "plt.plot(df, color='red',  label=\"True Price\")\n",
        "ax.plot(range(len(y_train)+50,len(y_train)+50+len(predictions)),predictions, color='blue', label='Predicted Testing Price')\n",
        "plt.legend()"
      ],
      "metadata": {
        "id": "uWhq2qv0LgpI",
        "colab": {
          "base_uri": "https://localhost:8080/",
          "height": 229
        },
        "outputId": "a7d7f0d0-945a-4074-d2f4-f229d1fff5a5"
      },
      "execution_count": 19,
      "outputs": [
        {
          "output_type": "execute_result",
          "data": {
            "text/plain": [
              "<matplotlib.legend.Legend at 0x7f440d5ac590>"
            ]
          },
          "metadata": {},
          "execution_count": 19
        },
        {
          "output_type": "display_data",
          "data": {
            "text/plain": [
              "<Figure size 1440x216 with 1 Axes>"
            ],
            "image/png": "[encoded data removed]"
          },
          "metadata": {
            "needs_background": "light"
          }
        }
      ]
    },
    {
      "cell_type": "code",
      "source": [
        "y_test_scaled = scaler.inverse_transform(y_test.reshape(-1, 1))\n",
        "\n",
        "fig, ax = plt.subplots(figsize=(20,3))\n",
        "ax.plot(y_test_scaled, color='red', label='True Testing Price')\n",
        "plt.plot(predictions, color='blue', label='Predicted Testing Price')\n",
        "plt.legend()\n",
        "\n",
        "# the forecast needs to shift -20 units"
      ],
      "metadata": {
        "id": "v4AHn_IkTGet",
        "colab": {
          "base_uri": "https://localhost:8080/",
          "height": 233
        },
        "outputId": "5d475411-d1cf-45af-b496-17f28f1c4365"
      },
      "execution_count": 20,
      "outputs": [
        {
          "output_type": "execute_result",
          "data": {
            "text/plain": [
              "<matplotlib.legend.Legend at 0x7f440d5a3c50>"
            ]
          },
          "metadata": {},
          "execution_count": 20
        },
        {
          "output_type": "display_data",
          "data": {
            "text/plain": [
              "<Figure size 1440x216 with 1 Axes>"
            ],
            "image/png": "[encoded data removed]"
          },
          "metadata": {
            "needs_background": "light"
          }
        }
      ]
    },
    {
      "cell_type": "code",
      "source": [
        "print(len(predictions))"
      ],
      "metadata": {
        "colab": {
          "base_uri": "https://localhost:8080/"
        },
        "id": "XgM3BTUqpbJo",
        "outputId": "640f7083-1f07-4be0-e58d-8db36431863f"
      },
      "execution_count": 21,
      "outputs": [
        {
          "output_type": "stream",
          "name": "stdout",
          "text": [
            "633\n"
          ]
        }
      ]
    },
    {
      "cell_type": "code",
      "source": [
        "print(predictions[0])"
      ],
      "metadata": {
        "colab": {
          "base_uri": "https://localhost:8080/"
        },
        "id": "3kFh7uDw0LWF",
        "outputId": "f6124029-123e-46c8-c947-d16ff42c604e"
      },
      "execution_count": 22,
      "outputs": [
        {
          "output_type": "stream",
          "name": "stdout",
          "text": [
            "[55.711605]\n"
          ]
        }
      ]
    },
    {
      "cell_type": "markdown",
      "source": [
        "TODO - finish the confusion matrix for this model"
      ],
      "metadata": {
        "id": "TytIGnsj_pQx"
      }
    },
    {
      "cell_type": "markdown",
      "source": [
        "my notes:"
      ],
      "metadata": {
        "id": "ecXgJ-zM6YFQ"
      }
    },
    {
      "cell_type": "markdown",
      "source": [
        "Next steps:\n",
        "A large majority of this model was code reused from a LSTM tutorial.\n",
        "In our case, we will need to do the same for Close, High, Low, and Volume.\n",
        "\n",
        "The bigger question is what we want to predict moving forward. Predicting price is technically useless. Predicting returns will offer business value. \n",
        "Why? Reasons explained in another video (I'll discuss later.)\n",
        "\n",
        "But for now, we have a model that's not dumb and hopefully not memorizing the dataset. LOLL\n",
        "\n",
        "To replicate this process, we need to construct a class called RNN with attributes like dataset and methods like create_dataframe, create_matrices, split_data, fit_model_to_data, and feed_prediction. Create an instance of that class for each time series task (Open, Close, High, Low, Volume).\n",
        "\n",
        "--\n",
        "Input would be the day -> outputs would be (Open, Close, High, Low, Volume)..."
      ],
      "metadata": {
        "id": "0JPoiSjTub67"
      }
    },
    {
      "cell_type": "markdown",
      "source": [
        "why did aapl not work -> the model did not fit aapl's data because its trajectory was inaccurately normalized (we have to understand that there will be exceptions -> if we are using minmaxscaler, we can't normalize a stock that starts as a few cents and grows to hundreds of dollars. when we normalized the Opens, the values were very very small for the first couple price points compared to the latter portion of the dataset."
      ],
      "metadata": {
        "id": "as8LdY_j5BgD"
      }
    },
    {
      "cell_type": "markdown",
      "source": [
        "if we target predicting returns instead of prices, we don't need to deal with this problem."
      ],
      "metadata": {
        "id": "GoIttv-v6LL7"
      }
    },
    {
      "cell_type": "markdown",
      "source": [
        "tweak the window function to predict the next day based on a 7 day window, not 50 day windows"
      ],
      "metadata": {
        "id": "YqVU4SOG9PgR"
      }
    },
    {
      "cell_type": "markdown",
      "source": [
        "ATTEMPTING TO REQUEST / TEST ON ACTUAL DATA!!"
      ],
      "metadata": {
        "id": "q9pbxHb41xyL"
      }
    },
    {
      "cell_type": "code",
      "source": [
        "import requests\n",
        "\n",
        "# replace the \"demo\" apikey below with your own key from https://www.alphavantage.co/support/#api-key\n",
        "url = 'https://www.alphavantage.co/query?function=TIME_SERIES_DAILY&symbol=AAWW&outputsize=compact&apikey=3BR7HYUPN64UVULS'\n",
        "r = requests.get(url)\n",
        "data = r.json()\n",
        "\n",
        "#print(data)\n",
        "# my API keyyy: 3BR7HYUPN64UVULS\n",
        "\n",
        "\n",
        "time_series_retrieval = data['Time Series (Daily)']#['2022-03-23']\n",
        "\n",
        "#print(time_series_retrieval)\n",
        "\n",
        "#should I make a dictionary of every date in the year and set it equal to its day equivalent -- then encode and decode?\n",
        "fetched_data = []\n",
        "#print(\"start of fetching 'open' for AAWW (Atlas Air Worldwide Holdings) - fetch 100 prices\")\n",
        "for i in time_series_retrieval:\n",
        "  fetched_data.append([float(time_series_retrieval[i]['1. open'])])\n",
        "  #print(time_series_retrieval[i]['1. open'])\n",
        "#print(\"end of fetching 'open' for AAWW (Atlas Air Worldwide Holdings)\")\n",
        "print(fetched_data)"
      ],
      "metadata": {
        "colab": {
          "base_uri": "https://localhost:8080/"
        },
        "id": "hcgRteJ71Czv",
        "outputId": "240aee0d-6bd1-4a7f-e535-5fded006efac"
      },
      "execution_count": 23,
      "outputs": [
        {
          "output_type": "stream",
          "name": "stdout",
          "text": [
            "[[85.92], [86.15], [88.17], [85.14], [83.3], [84.96], [81.52], [81.26], [82.74], [81.495], [81.78], [79.48], [81.59], [80.38], [80.98], [80.5], [78.3], [76.49], [75.01], [73.78], [74.88], [77.28], [77.23], [82.43], [78.24], [77.23], [76.2], [78.78], [79.66], [79.58], [78.36], [77.755], [79.88], [80.49], [81.67], [80.99], [75.76], [75.86], [78.22], [79.24], [78.29], [76.93], [77.27], [79.04], [81.75], [81.165], [85.14], [86.21], [87.5], [87.28], [87.7], [88.81], [90.8946], [95.76], [96.24], [94.79], [92.94], [93.0], [92.93], [92.9], [92.57], [91.97], [89.14], [89.11], [88.905], [87.87], [88.65], [87.5], [85.195], [86.6], [87.0], [86.61], [88.59], [88.11], [87.65], [86.84], [85.92], [89.15], [89.63], [93.62], [91.0], [94.52], [93.01], [90.0], [89.46], [88.91], [87.83], [87.54], [86.06], [85.24], [84.15], [83.66], [86.0], [86.11], [90.69], [89.33], [88.175], [83.63], [81.42], [80.47]]\n"
          ]
        }
      ]
    },
    {
      "cell_type": "code",
      "source": [
        "'''\n",
        "JUST FOR REFERENCE\n",
        "def create_dataset(df):\n",
        "  X = []\n",
        "  y = []\n",
        "  for i in range(50, df.shape[0]):\n",
        "    X.append(df[i-50:i,0])\n",
        "    y.append(df[i,0])\n",
        "  X = np.array(X)\n",
        "  y = np.array(y)\n",
        "  return X,y\n",
        "'''"
      ],
      "metadata": {
        "colab": {
          "base_uri": "https://localhost:8080/",
          "height": 53
        },
        "id": "cN-QGt7m1Gug",
        "outputId": "2cb52f9e-b818-478c-8fa9-90bfba171c34"
      },
      "execution_count": 61,
      "outputs": [
        {
          "output_type": "execute_result",
          "data": {
            "text/plain": [
              "'\\nJUST FOR REFERENCE\\ndef create_dataset(df):\\n  X = []\\n  y = []\\n  for i in range(50, df.shape[0]):\\n    X.append(df[i-50:i,0])\\n    y.append(df[i,0])\\n  X = np.array(X)\\n  y = np.array(y)\\n  return X,y\\n'"
            ],
            "application/vnd.google.colaboratory.intrinsic+json": {
              "type": "string"
            }
          },
          "metadata": {},
          "execution_count": 61
        }
      ]
    },
    {
      "cell_type": "code",
      "source": [
        "#TODO: construct a valid dataframe -> inside the loop above, instead of just printing, print and hold on to the next couple data vals by storing\n",
        "# them in an array and running that array of values through the create_dataset function below."
      ],
      "metadata": {
        "id": "b4S5xL5z2SNn"
      },
      "execution_count": 24,
      "outputs": []
    },
    {
      "cell_type": "code",
      "source": [
        "#print(fetched_data)\n",
        "fetched_data_dataframe = pd.DataFrame(fetched_data)\n",
        "#print(fetched_data_dataframe)\n",
        "x_validate, y_validate = create_dataset(fetched_data_dataframe.values) # AHHHHHHHHHHHHHHHHHH\n",
        "x_validate = np.reshape(x_validate, (x_validate.shape[0], x_validate.shape[1], 1))\n",
        "\n",
        "#print('x_validate')\n",
        "#print(x_validate)\n",
        "#print('x_validate[0]')\n",
        "#print(x_validate[0])\n",
        "\n",
        "val_scaler = MinMaxScaler(feature_range=(0,1))\n",
        "x_validate = val_scaler.fit_transform(x_validate[0])\n",
        "print(x_validate)"
      ],
      "metadata": {
        "id": "kYJNAus91mkx"
      },
      "execution_count": null,
      "outputs": []
    },
    {
      "cell_type": "code",
      "source": [
        "validate_predictions = bot_regressor.predict(x_validate)\n",
        "validate_predictions = val_scaler.inverse_transform(validate_predictions)\n",
        "print(validate_predictions[0])"
      ],
      "metadata": {
        "colab": {
          "base_uri": "https://localhost:8080/"
        },
        "id": "_IrVW5_KH1fb",
        "outputId": "7a6960ea-d8c0-4526-aaf2-c7be90a39c46"
      },
      "execution_count": 33,
      "outputs": [
        {
          "output_type": "stream",
          "name": "stdout",
          "text": [
            "[83.158264]\n"
          ]
        }
      ]
    },
    {
      "cell_type": "markdown",
      "source": [
        "don't know if this is the first or last one... lol"
      ],
      "metadata": {
        "id": "AePNEr6I8ccF"
      }
    },
    {
      "cell_type": "markdown",
      "source": [
        "More Visualization"
      ],
      "metadata": {
        "id": "7BB6Ibxo8wX0"
      }
    },
    {
      "cell_type": "code",
      "source": [
        "an_fig, an_ax = plt.subplots(figsize=(20,3))\n",
        "an_ax.plot(range(len(y_validate)+50,len(y_validate)+50+len(validate_predictions)),validate_predictions, color='blue', label='Predicted Testing Price')\n",
        "plt.legend()"
      ],
      "metadata": {
        "colab": {
          "base_uri": "https://localhost:8080/",
          "height": 229
        },
        "id": "i0aMQxzo8y6D",
        "outputId": "f015fba5-c8d8-4aeb-9040-3a878255ea40"
      },
      "execution_count": 49,
      "outputs": [
        {
          "output_type": "execute_result",
          "data": {
            "text/plain": [
              "<matplotlib.legend.Legend at 0x7f4406091390>"
            ]
          },
          "metadata": {},
          "execution_count": 49
        },
        {
          "output_type": "display_data",
          "data": {
            "text/plain": [
              "<Figure size 1440x216 with 1 Axes>"
            ],
            "image/png": "[encoded data removed]"
          },
          "metadata": {
            "needs_background": "light"
          }
        }
      ]
    }
  ],
  "metadata": {
    "colab": {
      "name": "StockBot.ipynb",
      "provenance": [],
      "collapsed_sections": []
    },
    "kernelspec": {
      "name": "python3",
      "display_name": "Python 3"
    },
    "language_info": {
      "name": "python"
    }
  },
  "nbformat": 4,
  "nbformat_minor": 0
}